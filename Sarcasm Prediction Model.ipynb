{
  "cells": [
    {
      "cell_type": "markdown",
      "id": "22581774-ec3d-4cf4-9d18-88159f373b42",
      "metadata": {
        "id": "22581774-ec3d-4cf4-9d18-88159f373b42",
        "tags": []
      },
      "source": [
        "# Sarcasm Prediction Model\n"
      ]
    },
    {
      "cell_type": "markdown",
      "id": "40ee67e1-d9d3-484c-adb3-8bf80da80c5c",
      "metadata": {
        "id": "40ee67e1-d9d3-484c-adb3-8bf80da80c5c"
      },
      "source": [
        "## 1 Installing Necessary libraries\n"
      ]
    },
    {
      "cell_type": "code",
      "execution_count": null,
      "id": "uwUj4chii-lB",
      "metadata": {
        "colab": {
          "base_uri": "https://localhost:8080/"
        },
        "id": "uwUj4chii-lB",
        "outputId": "b6fa5d34-14b9-4714-994e-8d93808fa05d"
      },
      "outputs": [],
      "source": [
        "pip install contractions\n"
      ]
    },
    {
      "cell_type": "code",
      "execution_count": null,
      "id": "7eb62a08",
      "metadata": {},
      "outputs": [],
      "source": [
        "pip install pandas\n"
      ]
    },
    {
      "cell_type": "code",
      "execution_count": null,
      "id": "e3aadcbb",
      "metadata": {},
      "outputs": [],
      "source": [
        "pip install nltk"
      ]
    },
    {
      "cell_type": "code",
      "execution_count": null,
      "id": "eb6ab028",
      "metadata": {},
      "outputs": [],
      "source": [
        "pip install texblob"
      ]
    },
    {
      "cell_type": "markdown",
      "id": "09fe3cde",
      "metadata": {},
      "source": [
        "## 2 Importing Libraries"
      ]
    },
    {
      "cell_type": "code",
      "execution_count": null,
      "id": "1a7cd578-17fe-499c-8638-007e205c5e14",
      "metadata": {
        "colab": {
          "base_uri": "https://localhost:8080/"
        },
        "id": "1a7cd578-17fe-499c-8638-007e205c5e14",
        "outputId": "b28c074d-c430-4de4-8cf9-25473c9a1040"
      },
      "outputs": [],
      "source": [
        "import pandas as pd\n",
        "import numpy as np \n",
        "import nltk \n",
        "from nltk.tokenize import word_tokenize\n",
        "from nltk.corpus import stopwords\n",
        "import re\n",
        "import contractions\n",
        "import string\n",
        "from sklearn.model_selection import train_test_split\n",
        "from sklearn import svm\n",
        "from sklearn.neural_network import MLPClassifier\n",
        "from sklearn.metrics import confusion_matrix, classification_report\n",
        "from sklearn.metrics import precision_recall_curve,plot_precision_recall_curve,plot_roc_curve\n",
        "from sklearn.metrics import accuracy_score,f1_score\n",
        "import textblob\n",
        "from sklearn.feature_extraction.text import CountVectorizer\n",
        "nltk.download('punkt')\n",
        "nltk.download('wordnet')\n",
        "nltk.download('stopwords')\n",
        "nltk.download('averaged_perceptron_tagger')\n"
      ]
    },
    {
      "cell_type": "markdown",
      "id": "dc19c1e9",
      "metadata": {},
      "source": [
        "## 3 Exploratory data analysis(EDA)"
      ]
    },
    {
      "cell_type": "code",
      "execution_count": 6,
      "id": "1d04156b-5e5b-4354-9edb-0b093b2e8673",
      "metadata": {
        "colab": {
          "base_uri": "https://localhost:8080/",
          "height": 206
        },
        "id": "1d04156b-5e5b-4354-9edb-0b093b2e8673",
        "outputId": "f18ea68d-92ed-45c5-d227-26b541a76807"
      },
      "outputs": [
        {
          "data": {
            "text/html": [
              "<div>\n",
              "<style scoped>\n",
              "    .dataframe tbody tr th:only-of-type {\n",
              "        vertical-align: middle;\n",
              "    }\n",
              "\n",
              "    .dataframe tbody tr th {\n",
              "        vertical-align: top;\n",
              "    }\n",
              "\n",
              "    .dataframe thead th {\n",
              "        text-align: right;\n",
              "    }\n",
              "</style>\n",
              "<table border=\"1\" class=\"dataframe\">\n",
              "  <thead>\n",
              "    <tr style=\"text-align: right;\">\n",
              "      <th></th>\n",
              "      <th>headline</th>\n",
              "      <th>is_sarcastic</th>\n",
              "    </tr>\n",
              "  </thead>\n",
              "  <tbody>\n",
              "    <tr>\n",
              "      <th>0</th>\n",
              "      <td>supreme court votes 7-2 to legalize all worldl...</td>\n",
              "      <td>1</td>\n",
              "    </tr>\n",
              "    <tr>\n",
              "      <th>1</th>\n",
              "      <td>hungover man horrified to learn he made dozens...</td>\n",
              "      <td>1</td>\n",
              "    </tr>\n",
              "    <tr>\n",
              "      <th>2</th>\n",
              "      <td>emily's list founder: women are the 'problem s...</td>\n",
              "      <td>0</td>\n",
              "    </tr>\n",
              "    <tr>\n",
              "      <th>3</th>\n",
              "      <td>send your kids back to school with confidence</td>\n",
              "      <td>0</td>\n",
              "    </tr>\n",
              "    <tr>\n",
              "      <th>4</th>\n",
              "      <td>watch: experts talk pesticides and health</td>\n",
              "      <td>0</td>\n",
              "    </tr>\n",
              "  </tbody>\n",
              "</table>\n",
              "</div>"
            ],
            "text/plain": [
              "                                            headline  is_sarcastic\n",
              "0  supreme court votes 7-2 to legalize all worldl...             1\n",
              "1  hungover man horrified to learn he made dozens...             1\n",
              "2  emily's list founder: women are the 'problem s...             0\n",
              "3      send your kids back to school with confidence             0\n",
              "4          watch: experts talk pesticides and health             0"
            ]
          },
          "execution_count": 6,
          "metadata": {},
          "output_type": "execute_result"
        }
      ],
      "source": [
        "df = pd.read_csv(\"Train_Dataset.csv\")\n",
        "df.head()"
      ]
    },
    {
      "cell_type": "code",
      "execution_count": 7,
      "id": "e92171f6-3b5a-4ef1-9a00-6e5c3f734142",
      "metadata": {
        "colab": {
          "base_uri": "https://localhost:8080/"
        },
        "id": "e92171f6-3b5a-4ef1-9a00-6e5c3f734142",
        "outputId": "d0fb5abe-1e43-4aa8-9990-f7b5dec4afa6"
      },
      "outputs": [
        {
          "name": "stdout",
          "output_type": "stream",
          "text": [
            "<class 'pandas.core.frame.DataFrame'>\n",
            "RangeIndex: 44262 entries, 0 to 44261\n",
            "Data columns (total 2 columns):\n",
            " #   Column        Non-Null Count  Dtype \n",
            "---  ------        --------------  ----- \n",
            " 0   headline      44262 non-null  object\n",
            " 1   is_sarcastic  44262 non-null  int64 \n",
            "dtypes: int64(1), object(1)\n",
            "memory usage: 691.7+ KB\n"
          ]
        }
      ],
      "source": [
        "df.info()"
      ]
    },
    {
      "cell_type": "code",
      "execution_count": 8,
      "id": "3ca79efd-70ea-4459-865d-fde1a16e1b1d",
      "metadata": {
        "colab": {
          "base_uri": "https://localhost:8080/"
        },
        "id": "3ca79efd-70ea-4459-865d-fde1a16e1b1d",
        "outputId": "a5624d37-a783-402c-a501-630fff6f42df"
      },
      "outputs": [
        {
          "data": {
            "text/plain": [
              "headline        0\n",
              "is_sarcastic    0\n",
              "dtype: int64"
            ]
          },
          "execution_count": 8,
          "metadata": {},
          "output_type": "execute_result"
        }
      ],
      "source": [
        "df.isna().sum()"
      ]
    },
    {
      "cell_type": "code",
      "execution_count": 9,
      "id": "c86a8bc8-a703-4a0d-9901-cbdb0d773535",
      "metadata": {
        "colab": {
          "base_uri": "https://localhost:8080/"
        },
        "id": "c86a8bc8-a703-4a0d-9901-cbdb0d773535",
        "outputId": "980b8960-8e51-4720-82ff-f5e58426eb09"
      },
      "outputs": [
        {
          "data": {
            "text/plain": [
              "headline        0\n",
              "is_sarcastic    0\n",
              "dtype: int64"
            ]
          },
          "execution_count": 9,
          "metadata": {},
          "output_type": "execute_result"
        }
      ],
      "source": [
        "df.isnull().sum()"
      ]
    },
    {
      "cell_type": "markdown",
      "id": "97cde78c-c281-423a-b899-e3c532672015",
      "metadata": {
        "id": "97cde78c-c281-423a-b899-e3c532672015"
      },
      "source": [
        "## 4 Text Rre-Processing\n"
      ]
    },
    {
      "cell_type": "code",
      "execution_count": 10,
      "id": "b06f4d96-5ba2-4c68-8dc6-bd67898bf3f2",
      "metadata": {
        "colab": {
          "base_uri": "https://localhost:8080/"
        },
        "id": "b06f4d96-5ba2-4c68-8dc6-bd67898bf3f2",
        "outputId": "8d730857-5e3b-4564-bcf1-2324f19d6148"
      },
      "outputs": [
        {
          "data": {
            "text/plain": [
              "44262"
            ]
          },
          "execution_count": 10,
          "metadata": {},
          "output_type": "execute_result"
        }
      ],
      "source": [
        "stop_words = nltk.corpus.stopwords.words('english')\n",
        "def normalize_document(doc):\n",
        "    doc = re.sub(r'[^a-zA-Z0-9\\s]', '', doc, re.I|re.A)\n",
        "    doc = doc.lower()\n",
        "    doc = doc.strip()\n",
        "    doc = contractions.fix(doc)\n",
        "    tokens = nltk.word_tokenize(doc)\n",
        "    filtered_tokens = [token for token in tokens if token not in stop_words]\n",
        "    doc = ' '.join(filtered_tokens)\n",
        "    return doc\n",
        "normalize_corpus = np.vectorize(normalize_document)\n",
        "norm_corpus = normalize_corpus(list(df['headline']))\n",
        "len(norm_corpus) "
      ]
    },
    {
      "cell_type": "markdown",
      "id": "a3888514-c4db-48d7-b782-57a4813b85d0",
      "metadata": {
        "id": "a3888514-c4db-48d7-b782-57a4813b85d0"
      },
      "source": [
        "## 5 Building Model\n"
      ]
    },
    {
      "cell_type": "markdown",
      "id": "247002e9-9582-45c7-acce-595abf74502d",
      "metadata": {
        "id": "247002e9-9582-45c7-acce-595abf74502d"
      },
      "source": [
        "### 5.1 Splitting Data\n"
      ]
    },
    {
      "cell_type": "code",
      "execution_count": 11,
      "id": "2f3e793b-4a44-47cd-af08-0870e48e6070",
      "metadata": {
        "colab": {
          "base_uri": "https://localhost:8080/"
        },
        "id": "2f3e793b-4a44-47cd-af08-0870e48e6070",
        "outputId": "1a48b532-b6cc-442b-f262-677ff3f4144c"
      },
      "outputs": [
        {
          "data": {
            "text/plain": [
              "((35409, 1), (8853, 1))"
            ]
          },
          "execution_count": 11,
          "metadata": {},
          "output_type": "execute_result"
        }
      ],
      "source": [
        "X_train, X_test, y_train, y_test = train_test_split(df[['headline']], df['is_sarcastic'], test_size = 0.2, random_state=42)\n",
        "X_train.shape, X_test.shape"
      ]
    },
    {
      "cell_type": "markdown",
      "id": "917031b8-cddd-4df3-8c9b-9f38e69c19d8",
      "metadata": {
        "id": "917031b8-cddd-4df3-8c9b-9f38e69c19d8"
      },
      "source": [
        "### 5.2 Count Based Features\n"
      ]
    },
    {
      "cell_type": "code",
      "execution_count": 12,
      "id": "a32c999a-9aa4-4143-8a98-67e9df97d284",
      "metadata": {
        "id": "a32c999a-9aa4-4143-8a98-67e9df97d284"
      },
      "outputs": [],
      "source": [
        "import string\n",
        "\n",
        "X_train['char_count'] = X_train['headline'].apply(len)\n",
        "X_train['word_count'] = X_train['headline'].apply(lambda x: len(x.split()))\n",
        "X_train['word_density'] = X_train['char_count'] / (X_train['word_count']+1)\n",
        "X_train['punctuation_count'] = X_train['headline'].apply(lambda x: len(\"\".join(_ for _ in x if _ in string.punctuation))) \n",
        "X_train['title_word_count'] = X_train['headline'].apply(lambda x: len([wrd for wrd in x.split() if wrd.istitle()]))\n",
        "X_train['upper_case_word_count'] = X_train['headline'].apply(lambda x: len([wrd for wrd in x.split() if wrd.isupper()]))\n",
        "\n",
        "\n",
        "X_test['char_count'] = X_test['headline'].apply(len)\n",
        "X_test['word_count'] = X_test['headline'].apply(lambda x: len(x.split()))\n",
        "X_test['word_density'] = X_test['char_count'] / (X_test['word_count']+1)\n",
        "X_test['punctuation_count'] = X_test['headline'].apply(lambda x: len(\"\".join(_ for _ in x if _ in string.punctuation))) \n",
        "X_test['title_word_count'] = X_test['headline'].apply(lambda x: len([wrd for wrd in x.split() if wrd.istitle()]))\n",
        "X_test['upper_case_word_count'] = X_test['headline'].apply(lambda x: len([wrd for wrd in x.split() if wrd.isupper()]))"
      ]
    },
    {
      "cell_type": "code",
      "execution_count": 13,
      "id": "abc118d8-a18b-4aa9-8821-29c53bd0f6a2",
      "metadata": {
        "colab": {
          "base_uri": "https://localhost:8080/",
          "height": 458
        },
        "id": "abc118d8-a18b-4aa9-8821-29c53bd0f6a2",
        "outputId": "abb5f093-9191-41a3-9768-bdfe5dc63d07"
      },
      "outputs": [
        {
          "data": {
            "text/html": [
              "<div>\n",
              "<style scoped>\n",
              "    .dataframe tbody tr th:only-of-type {\n",
              "        vertical-align: middle;\n",
              "    }\n",
              "\n",
              "    .dataframe tbody tr th {\n",
              "        vertical-align: top;\n",
              "    }\n",
              "\n",
              "    .dataframe thead th {\n",
              "        text-align: right;\n",
              "    }\n",
              "</style>\n",
              "<table border=\"1\" class=\"dataframe\">\n",
              "  <thead>\n",
              "    <tr style=\"text-align: right;\">\n",
              "      <th></th>\n",
              "      <th>headline</th>\n",
              "      <th>char_count</th>\n",
              "      <th>word_count</th>\n",
              "      <th>word_density</th>\n",
              "      <th>punctuation_count</th>\n",
              "      <th>title_word_count</th>\n",
              "      <th>upper_case_word_count</th>\n",
              "    </tr>\n",
              "  </thead>\n",
              "  <tbody>\n",
              "    <tr>\n",
              "      <th>977</th>\n",
              "      <td>rep. david cicilline: lgbt people are entitled...</td>\n",
              "      <td>65</td>\n",
              "      <td>10</td>\n",
              "      <td>5.909091</td>\n",
              "      <td>4</td>\n",
              "      <td>0</td>\n",
              "      <td>0</td>\n",
              "    </tr>\n",
              "    <tr>\n",
              "      <th>18954</th>\n",
              "      <td>inflating the russian threat</td>\n",
              "      <td>28</td>\n",
              "      <td>4</td>\n",
              "      <td>5.600000</td>\n",
              "      <td>0</td>\n",
              "      <td>0</td>\n",
              "      <td>0</td>\n",
              "    </tr>\n",
              "    <tr>\n",
              "      <th>11070</th>\n",
              "      <td>former senator to run pot company</td>\n",
              "      <td>33</td>\n",
              "      <td>6</td>\n",
              "      <td>4.714286</td>\n",
              "      <td>0</td>\n",
              "      <td>0</td>\n",
              "      <td>0</td>\n",
              "    </tr>\n",
              "    <tr>\n",
              "      <th>34583</th>\n",
              "      <td>white liberals celebrating tomi lahren's daily...</td>\n",
              "      <td>83</td>\n",
              "      <td>12</td>\n",
              "      <td>6.384615</td>\n",
              "      <td>1</td>\n",
              "      <td>0</td>\n",
              "      <td>0</td>\n",
              "    </tr>\n",
              "    <tr>\n",
              "      <th>28075</th>\n",
              "      <td>marco rubio doesn't have a clue what 'oscars s...</td>\n",
              "      <td>60</td>\n",
              "      <td>11</td>\n",
              "      <td>5.000000</td>\n",
              "      <td>3</td>\n",
              "      <td>0</td>\n",
              "      <td>0</td>\n",
              "    </tr>\n",
              "  </tbody>\n",
              "</table>\n",
              "</div>"
            ],
            "text/plain": [
              "                                                headline  char_count  \\\n",
              "977    rep. david cicilline: lgbt people are entitled...          65   \n",
              "18954                       inflating the russian threat          28   \n",
              "11070                  former senator to run pot company          33   \n",
              "34583  white liberals celebrating tomi lahren's daily...          83   \n",
              "28075  marco rubio doesn't have a clue what 'oscars s...          60   \n",
              "\n",
              "       word_count  word_density  punctuation_count  title_word_count  \\\n",
              "977            10      5.909091                  4                 0   \n",
              "18954           4      5.600000                  0                 0   \n",
              "11070           6      4.714286                  0                 0   \n",
              "34583          12      6.384615                  1                 0   \n",
              "28075          11      5.000000                  3                 0   \n",
              "\n",
              "       upper_case_word_count  \n",
              "977                        0  \n",
              "18954                      0  \n",
              "11070                      0  \n",
              "34583                      0  \n",
              "28075                      0  "
            ]
          },
          "execution_count": 13,
          "metadata": {},
          "output_type": "execute_result"
        }
      ],
      "source": [
        "X_train.head()"
      ]
    },
    {
      "cell_type": "markdown",
      "id": "72794f8c-2bb3-4cea-bf8f-b652ee1605fa",
      "metadata": {
        "id": "72794f8c-2bb3-4cea-bf8f-b652ee1605fa"
      },
      "source": [
        "### 5.3 Sentiment Analysis"
      ]
    },
    {
      "cell_type": "code",
      "execution_count": 14,
      "id": "d3c1be6b-bf72-43a5-8145-0499c2452625",
      "metadata": {
        "id": "d3c1be6b-bf72-43a5-8145-0499c2452625"
      },
      "outputs": [],
      "source": [
        "x_train_snt_obj = X_train['headline'].apply(lambda row: textblob.TextBlob(row).sentiment)\n",
        "X_train['Polarity'] = [obj.polarity for obj in x_train_snt_obj.values]\n",
        "X_train['Subjectivity'] = [obj.subjectivity for obj in x_train_snt_obj.values]\n",
        "\n",
        "x_test_snt_obj = X_test['headline'].apply(lambda row: textblob.TextBlob(row).sentiment)\n",
        "X_test['Polarity'] = [obj.polarity for obj in x_test_snt_obj.values]\n",
        "X_test['Subjectivity'] = [obj.subjectivity for obj in x_test_snt_obj.values]"
      ]
    },
    {
      "cell_type": "code",
      "execution_count": 15,
      "id": "8f8a4fe0-ebe1-4c9f-b08f-e1acd13422be",
      "metadata": {
        "colab": {
          "base_uri": "https://localhost:8080/",
          "height": 600
        },
        "id": "8f8a4fe0-ebe1-4c9f-b08f-e1acd13422be",
        "outputId": "6387361c-1855-4452-ca3b-e4d7fe067180"
      },
      "outputs": [
        {
          "data": {
            "text/html": [
              "<div>\n",
              "<style scoped>\n",
              "    .dataframe tbody tr th:only-of-type {\n",
              "        vertical-align: middle;\n",
              "    }\n",
              "\n",
              "    .dataframe tbody tr th {\n",
              "        vertical-align: top;\n",
              "    }\n",
              "\n",
              "    .dataframe thead th {\n",
              "        text-align: right;\n",
              "    }\n",
              "</style>\n",
              "<table border=\"1\" class=\"dataframe\">\n",
              "  <thead>\n",
              "    <tr style=\"text-align: right;\">\n",
              "      <th></th>\n",
              "      <th>headline</th>\n",
              "      <th>char_count</th>\n",
              "      <th>word_count</th>\n",
              "      <th>word_density</th>\n",
              "      <th>punctuation_count</th>\n",
              "      <th>title_word_count</th>\n",
              "      <th>upper_case_word_count</th>\n",
              "      <th>Polarity</th>\n",
              "      <th>Subjectivity</th>\n",
              "    </tr>\n",
              "  </thead>\n",
              "  <tbody>\n",
              "    <tr>\n",
              "      <th>977</th>\n",
              "      <td>rep. david cicilline: lgbt people are entitled...</td>\n",
              "      <td>65</td>\n",
              "      <td>10</td>\n",
              "      <td>5.909091</td>\n",
              "      <td>4</td>\n",
              "      <td>0</td>\n",
              "      <td>0</td>\n",
              "      <td>0.350000</td>\n",
              "      <td>0.550000</td>\n",
              "    </tr>\n",
              "    <tr>\n",
              "      <th>18954</th>\n",
              "      <td>inflating the russian threat</td>\n",
              "      <td>28</td>\n",
              "      <td>4</td>\n",
              "      <td>5.600000</td>\n",
              "      <td>0</td>\n",
              "      <td>0</td>\n",
              "      <td>0</td>\n",
              "      <td>0.000000</td>\n",
              "      <td>0.000000</td>\n",
              "    </tr>\n",
              "    <tr>\n",
              "      <th>11070</th>\n",
              "      <td>former senator to run pot company</td>\n",
              "      <td>33</td>\n",
              "      <td>6</td>\n",
              "      <td>4.714286</td>\n",
              "      <td>0</td>\n",
              "      <td>0</td>\n",
              "      <td>0</td>\n",
              "      <td>0.000000</td>\n",
              "      <td>0.000000</td>\n",
              "    </tr>\n",
              "    <tr>\n",
              "      <th>34583</th>\n",
              "      <td>white liberals celebrating tomi lahren's daily...</td>\n",
              "      <td>83</td>\n",
              "      <td>12</td>\n",
              "      <td>6.384615</td>\n",
              "      <td>1</td>\n",
              "      <td>0</td>\n",
              "      <td>0</td>\n",
              "      <td>-0.066667</td>\n",
              "      <td>0.016667</td>\n",
              "    </tr>\n",
              "    <tr>\n",
              "      <th>28075</th>\n",
              "      <td>marco rubio doesn't have a clue what 'oscars s...</td>\n",
              "      <td>60</td>\n",
              "      <td>11</td>\n",
              "      <td>5.000000</td>\n",
              "      <td>3</td>\n",
              "      <td>0</td>\n",
              "      <td>0</td>\n",
              "      <td>0.000000</td>\n",
              "      <td>0.000000</td>\n",
              "    </tr>\n",
              "  </tbody>\n",
              "</table>\n",
              "</div>"
            ],
            "text/plain": [
              "                                                headline  char_count  \\\n",
              "977    rep. david cicilline: lgbt people are entitled...          65   \n",
              "18954                       inflating the russian threat          28   \n",
              "11070                  former senator to run pot company          33   \n",
              "34583  white liberals celebrating tomi lahren's daily...          83   \n",
              "28075  marco rubio doesn't have a clue what 'oscars s...          60   \n",
              "\n",
              "       word_count  word_density  punctuation_count  title_word_count  \\\n",
              "977            10      5.909091                  4                 0   \n",
              "18954           4      5.600000                  0                 0   \n",
              "11070           6      4.714286                  0                 0   \n",
              "34583          12      6.384615                  1                 0   \n",
              "28075          11      5.000000                  3                 0   \n",
              "\n",
              "       upper_case_word_count  Polarity  Subjectivity  \n",
              "977                        0  0.350000      0.550000  \n",
              "18954                      0  0.000000      0.000000  \n",
              "11070                      0  0.000000      0.000000  \n",
              "34583                      0 -0.066667      0.016667  \n",
              "28075                      0  0.000000      0.000000  "
            ]
          },
          "execution_count": 15,
          "metadata": {},
          "output_type": "execute_result"
        }
      ],
      "source": [
        "X_train.head()"
      ]
    },
    {
      "cell_type": "markdown",
      "id": "f0d1763a-13da-4aae-af2a-68ac56dcb4da",
      "metadata": {
        "id": "f0d1763a-13da-4aae-af2a-68ac56dcb4da"
      },
      "source": [
        "### 5.4 Adding Bag of Words\n"
      ]
    },
    {
      "cell_type": "code",
      "execution_count": 16,
      "id": "8a82cc2e-5592-4b7d-8832-c4cfe0cce9b4",
      "metadata": {
        "id": "8a82cc2e-5592-4b7d-8832-c4cfe0cce9b4"
      },
      "outputs": [],
      "source": [
        "stop_words = nltk.corpus.stopwords.words('english')\n",
        "stop_words.remove('no')\n",
        "stop_words.remove('not')\n",
        "stop_words.remove('but')\n",
        "ps = nltk.porter.PorterStemmer()\n",
        "\n",
        "def simple_text_preprocessor(document): \n",
        "    document = str(document).lower()\n",
        "    document = contractions.fix(document)\n",
        "    document = re.sub(r'[^a-zA-Z]',r' ', document)\n",
        "    document = re.sub(r'nbsp', r'', document)\n",
        "    document = re.sub(' +', ' ', document)\n",
        "    document = ' '.join([ps.stem(word) for word in document.split()])\n",
        "    document = ' '.join([word for word in document.split() if word not in stop_words])    \n",
        "    return document\n",
        "stp = np.vectorize(simple_text_preprocessor)"
      ]
    },
    {
      "cell_type": "code",
      "execution_count": 17,
      "id": "4da561a4-280f-4b09-aff5-b4116da81303",
      "metadata": {
        "colab": {
          "base_uri": "https://localhost:8080/",
          "height": 635
        },
        "id": "4da561a4-280f-4b09-aff5-b4116da81303",
        "outputId": "67945ab0-19c2-4b45-f31d-bbd8350e95f4"
      },
      "outputs": [
        {
          "data": {
            "text/html": [
              "<div>\n",
              "<style scoped>\n",
              "    .dataframe tbody tr th:only-of-type {\n",
              "        vertical-align: middle;\n",
              "    }\n",
              "\n",
              "    .dataframe tbody tr th {\n",
              "        vertical-align: top;\n",
              "    }\n",
              "\n",
              "    .dataframe thead th {\n",
              "        text-align: right;\n",
              "    }\n",
              "</style>\n",
              "<table border=\"1\" class=\"dataframe\">\n",
              "  <thead>\n",
              "    <tr style=\"text-align: right;\">\n",
              "      <th></th>\n",
              "      <th>headline</th>\n",
              "      <th>char_count</th>\n",
              "      <th>word_count</th>\n",
              "      <th>word_density</th>\n",
              "      <th>punctuation_count</th>\n",
              "      <th>title_word_count</th>\n",
              "      <th>upper_case_word_count</th>\n",
              "      <th>Polarity</th>\n",
              "      <th>Subjectivity</th>\n",
              "      <th>clean headline</th>\n",
              "    </tr>\n",
              "  </thead>\n",
              "  <tbody>\n",
              "    <tr>\n",
              "      <th>977</th>\n",
              "      <td>rep. david cicilline: lgbt people are entitled...</td>\n",
              "      <td>65</td>\n",
              "      <td>10</td>\n",
              "      <td>5.909091</td>\n",
              "      <td>4</td>\n",
              "      <td>0</td>\n",
              "      <td>0</td>\n",
              "      <td>0.350000</td>\n",
              "      <td>0.550000</td>\n",
              "      <td>rep david cicillin lgbt peopl entitl full equal</td>\n",
              "    </tr>\n",
              "    <tr>\n",
              "      <th>18954</th>\n",
              "      <td>inflating the russian threat</td>\n",
              "      <td>28</td>\n",
              "      <td>4</td>\n",
              "      <td>5.600000</td>\n",
              "      <td>0</td>\n",
              "      <td>0</td>\n",
              "      <td>0</td>\n",
              "      <td>0.000000</td>\n",
              "      <td>0.000000</td>\n",
              "      <td>inflat russian threat</td>\n",
              "    </tr>\n",
              "    <tr>\n",
              "      <th>11070</th>\n",
              "      <td>former senator to run pot company</td>\n",
              "      <td>33</td>\n",
              "      <td>6</td>\n",
              "      <td>4.714286</td>\n",
              "      <td>0</td>\n",
              "      <td>0</td>\n",
              "      <td>0</td>\n",
              "      <td>0.000000</td>\n",
              "      <td>0.000000</td>\n",
              "      <td>former senat run pot compani</td>\n",
              "    </tr>\n",
              "    <tr>\n",
              "      <th>34583</th>\n",
              "      <td>white liberals celebrating tomi lahren's daily...</td>\n",
              "      <td>83</td>\n",
              "      <td>12</td>\n",
              "      <td>6.384615</td>\n",
              "      <td>1</td>\n",
              "      <td>0</td>\n",
              "      <td>0</td>\n",
              "      <td>-0.066667</td>\n",
              "      <td>0.016667</td>\n",
              "      <td>white liber celebr tomi lahren daili show inte...</td>\n",
              "    </tr>\n",
              "    <tr>\n",
              "      <th>28075</th>\n",
              "      <td>marco rubio doesn't have a clue what 'oscars s...</td>\n",
              "      <td>60</td>\n",
              "      <td>11</td>\n",
              "      <td>5.000000</td>\n",
              "      <td>3</td>\n",
              "      <td>0</td>\n",
              "      <td>0</td>\n",
              "      <td>0.000000</td>\n",
              "      <td>0.000000</td>\n",
              "      <td>marco rubio doe not clue oscar white mean</td>\n",
              "    </tr>\n",
              "  </tbody>\n",
              "</table>\n",
              "</div>"
            ],
            "text/plain": [
              "                                                headline  char_count  \\\n",
              "977    rep. david cicilline: lgbt people are entitled...          65   \n",
              "18954                       inflating the russian threat          28   \n",
              "11070                  former senator to run pot company          33   \n",
              "34583  white liberals celebrating tomi lahren's daily...          83   \n",
              "28075  marco rubio doesn't have a clue what 'oscars s...          60   \n",
              "\n",
              "       word_count  word_density  punctuation_count  title_word_count  \\\n",
              "977            10      5.909091                  4                 0   \n",
              "18954           4      5.600000                  0                 0   \n",
              "11070           6      4.714286                  0                 0   \n",
              "34583          12      6.384615                  1                 0   \n",
              "28075          11      5.000000                  3                 0   \n",
              "\n",
              "       upper_case_word_count  Polarity  Subjectivity  \\\n",
              "977                        0  0.350000      0.550000   \n",
              "18954                      0  0.000000      0.000000   \n",
              "11070                      0  0.000000      0.000000   \n",
              "34583                      0 -0.066667      0.016667   \n",
              "28075                      0  0.000000      0.000000   \n",
              "\n",
              "                                          clean headline  \n",
              "977      rep david cicillin lgbt peopl entitl full equal  \n",
              "18954                              inflat russian threat  \n",
              "11070                       former senat run pot compani  \n",
              "34583  white liber celebr tomi lahren daili show inte...  \n",
              "28075          marco rubio doe not clue oscar white mean  "
            ]
          },
          "execution_count": 17,
          "metadata": {},
          "output_type": "execute_result"
        }
      ],
      "source": [
        "X_train['clean headline'] = stp(X_train['headline'].values)\n",
        "X_test['clean headline'] = stp(X_test['headline'].values)\n",
        "\n",
        "X_train.head()"
      ]
    },
    {
      "cell_type": "code",
      "execution_count": 18,
      "id": "f26df03e-5db3-4a02-9195-be3c169a7cad",
      "metadata": {
        "colab": {
          "base_uri": "https://localhost:8080/",
          "height": 270
        },
        "id": "f26df03e-5db3-4a02-9195-be3c169a7cad",
        "outputId": "ac5f0acb-6fb8-418d-9077-5cfca706a055"
      },
      "outputs": [
        {
          "data": {
            "text/html": [
              "<div>\n",
              "<style scoped>\n",
              "    .dataframe tbody tr th:only-of-type {\n",
              "        vertical-align: middle;\n",
              "    }\n",
              "\n",
              "    .dataframe tbody tr th {\n",
              "        vertical-align: top;\n",
              "    }\n",
              "\n",
              "    .dataframe thead th {\n",
              "        text-align: right;\n",
              "    }\n",
              "</style>\n",
              "<table border=\"1\" class=\"dataframe\">\n",
              "  <thead>\n",
              "    <tr style=\"text-align: right;\">\n",
              "      <th></th>\n",
              "      <th>char_count</th>\n",
              "      <th>word_count</th>\n",
              "      <th>word_density</th>\n",
              "      <th>punctuation_count</th>\n",
              "      <th>title_word_count</th>\n",
              "      <th>upper_case_word_count</th>\n",
              "      <th>Polarity</th>\n",
              "      <th>Subjectivity</th>\n",
              "    </tr>\n",
              "  </thead>\n",
              "  <tbody>\n",
              "    <tr>\n",
              "      <th>0</th>\n",
              "      <td>65</td>\n",
              "      <td>10</td>\n",
              "      <td>5.909091</td>\n",
              "      <td>4</td>\n",
              "      <td>0</td>\n",
              "      <td>0</td>\n",
              "      <td>0.350000</td>\n",
              "      <td>0.550000</td>\n",
              "    </tr>\n",
              "    <tr>\n",
              "      <th>1</th>\n",
              "      <td>28</td>\n",
              "      <td>4</td>\n",
              "      <td>5.600000</td>\n",
              "      <td>0</td>\n",
              "      <td>0</td>\n",
              "      <td>0</td>\n",
              "      <td>0.000000</td>\n",
              "      <td>0.000000</td>\n",
              "    </tr>\n",
              "    <tr>\n",
              "      <th>2</th>\n",
              "      <td>33</td>\n",
              "      <td>6</td>\n",
              "      <td>4.714286</td>\n",
              "      <td>0</td>\n",
              "      <td>0</td>\n",
              "      <td>0</td>\n",
              "      <td>0.000000</td>\n",
              "      <td>0.000000</td>\n",
              "    </tr>\n",
              "    <tr>\n",
              "      <th>3</th>\n",
              "      <td>83</td>\n",
              "      <td>12</td>\n",
              "      <td>6.384615</td>\n",
              "      <td>1</td>\n",
              "      <td>0</td>\n",
              "      <td>0</td>\n",
              "      <td>-0.066667</td>\n",
              "      <td>0.016667</td>\n",
              "    </tr>\n",
              "    <tr>\n",
              "      <th>4</th>\n",
              "      <td>60</td>\n",
              "      <td>11</td>\n",
              "      <td>5.000000</td>\n",
              "      <td>3</td>\n",
              "      <td>0</td>\n",
              "      <td>0</td>\n",
              "      <td>0.000000</td>\n",
              "      <td>0.000000</td>\n",
              "    </tr>\n",
              "  </tbody>\n",
              "</table>\n",
              "</div>"
            ],
            "text/plain": [
              "   char_count  word_count  word_density  punctuation_count  title_word_count  \\\n",
              "0          65          10      5.909091                  4                 0   \n",
              "1          28           4      5.600000                  0                 0   \n",
              "2          33           6      4.714286                  0                 0   \n",
              "3          83          12      6.384615                  1                 0   \n",
              "4          60          11      5.000000                  3                 0   \n",
              "\n",
              "   upper_case_word_count  Polarity  Subjectivity  \n",
              "0                      0  0.350000      0.550000  \n",
              "1                      0  0.000000      0.000000  \n",
              "2                      0  0.000000      0.000000  \n",
              "3                      0 -0.066667      0.016667  \n",
              "4                      0  0.000000      0.000000  "
            ]
          },
          "execution_count": 18,
          "metadata": {},
          "output_type": "execute_result"
        }
      ],
      "source": [
        "X_train_metadata = X_train.drop(['headline', 'clean headline'], axis=1).reset_index(drop=True)\n",
        "X_test_metadata = X_test.drop(['headline', 'clean headline'], axis=1).reset_index(drop=True)\n",
        "\n",
        "X_train_metadata.head()"
      ]
    },
    {
      "cell_type": "code",
      "execution_count": null,
      "id": "cfe9ce5b-92b5-43c1-96e1-77b9ac30106b",
      "metadata": {
        "colab": {
          "base_uri": "https://localhost:8080/",
          "height": 334
        },
        "id": "cfe9ce5b-92b5-43c1-96e1-77b9ac30106b",
        "outputId": "ae8dec92-8677-486a-fb71-269493f173a9"
      },
      "outputs": [],
      "source": [
        "cv = CountVectorizer(min_df=0.0, max_df=1.0, ngram_range=(1, 1))\n",
        "X_traincv = cv.fit_transform(X_train['clean headline']).toarray()\n",
        "X_traincv = pd.DataFrame(X_traincv, columns=cv.get_feature_names())\n",
        "\n",
        "X_testcv = cv.transform(X_test['clean headline']).toarray()\n",
        "X_testcv = pd.DataFrame(X_testcv, columns=cv.get_feature_names())\n",
        "X_traincv.head()"
      ]
    },
    {
      "cell_type": "code",
      "execution_count": 20,
      "id": "acee3523-b4bb-46c9-a7fd-346a36f2d50e",
      "metadata": {
        "id": "acee3523-b4bb-46c9-a7fd-346a36f2d50e"
      },
      "outputs": [
        {
          "data": {
            "text/html": [
              "<div>\n",
              "<style scoped>\n",
              "    .dataframe tbody tr th:only-of-type {\n",
              "        vertical-align: middle;\n",
              "    }\n",
              "\n",
              "    .dataframe tbody tr th {\n",
              "        vertical-align: top;\n",
              "    }\n",
              "\n",
              "    .dataframe thead th {\n",
              "        text-align: right;\n",
              "    }\n",
              "</style>\n",
              "<table border=\"1\" class=\"dataframe\">\n",
              "  <thead>\n",
              "    <tr style=\"text-align: right;\">\n",
              "      <th></th>\n",
              "      <th>char_count</th>\n",
              "      <th>word_count</th>\n",
              "      <th>word_density</th>\n",
              "      <th>punctuation_count</th>\n",
              "      <th>title_word_count</th>\n",
              "      <th>upper_case_word_count</th>\n",
              "      <th>Polarity</th>\n",
              "      <th>Subjectivity</th>\n",
              "      <th>aaa</th>\n",
              "      <th>aaron</th>\n",
              "      <th>...</th>\n",
              "      <th>zoo</th>\n",
              "      <th>zookeep</th>\n",
              "      <th>zooland</th>\n",
              "      <th>zoologist</th>\n",
              "      <th>zoom</th>\n",
              "      <th>zoroastrian</th>\n",
              "      <th>zsa</th>\n",
              "      <th>zucker</th>\n",
              "      <th>zuckerberg</th>\n",
              "      <th>zz</th>\n",
              "    </tr>\n",
              "  </thead>\n",
              "  <tbody>\n",
              "    <tr>\n",
              "      <th>0</th>\n",
              "      <td>65</td>\n",
              "      <td>10</td>\n",
              "      <td>5.909091</td>\n",
              "      <td>4</td>\n",
              "      <td>0</td>\n",
              "      <td>0</td>\n",
              "      <td>0.350000</td>\n",
              "      <td>0.550000</td>\n",
              "      <td>0</td>\n",
              "      <td>0</td>\n",
              "      <td>...</td>\n",
              "      <td>0</td>\n",
              "      <td>0</td>\n",
              "      <td>0</td>\n",
              "      <td>0</td>\n",
              "      <td>0</td>\n",
              "      <td>0</td>\n",
              "      <td>0</td>\n",
              "      <td>0</td>\n",
              "      <td>0</td>\n",
              "      <td>0</td>\n",
              "    </tr>\n",
              "    <tr>\n",
              "      <th>1</th>\n",
              "      <td>28</td>\n",
              "      <td>4</td>\n",
              "      <td>5.600000</td>\n",
              "      <td>0</td>\n",
              "      <td>0</td>\n",
              "      <td>0</td>\n",
              "      <td>0.000000</td>\n",
              "      <td>0.000000</td>\n",
              "      <td>0</td>\n",
              "      <td>0</td>\n",
              "      <td>...</td>\n",
              "      <td>0</td>\n",
              "      <td>0</td>\n",
              "      <td>0</td>\n",
              "      <td>0</td>\n",
              "      <td>0</td>\n",
              "      <td>0</td>\n",
              "      <td>0</td>\n",
              "      <td>0</td>\n",
              "      <td>0</td>\n",
              "      <td>0</td>\n",
              "    </tr>\n",
              "    <tr>\n",
              "      <th>2</th>\n",
              "      <td>33</td>\n",
              "      <td>6</td>\n",
              "      <td>4.714286</td>\n",
              "      <td>0</td>\n",
              "      <td>0</td>\n",
              "      <td>0</td>\n",
              "      <td>0.000000</td>\n",
              "      <td>0.000000</td>\n",
              "      <td>0</td>\n",
              "      <td>0</td>\n",
              "      <td>...</td>\n",
              "      <td>0</td>\n",
              "      <td>0</td>\n",
              "      <td>0</td>\n",
              "      <td>0</td>\n",
              "      <td>0</td>\n",
              "      <td>0</td>\n",
              "      <td>0</td>\n",
              "      <td>0</td>\n",
              "      <td>0</td>\n",
              "      <td>0</td>\n",
              "    </tr>\n",
              "    <tr>\n",
              "      <th>3</th>\n",
              "      <td>83</td>\n",
              "      <td>12</td>\n",
              "      <td>6.384615</td>\n",
              "      <td>1</td>\n",
              "      <td>0</td>\n",
              "      <td>0</td>\n",
              "      <td>-0.066667</td>\n",
              "      <td>0.016667</td>\n",
              "      <td>0</td>\n",
              "      <td>0</td>\n",
              "      <td>...</td>\n",
              "      <td>0</td>\n",
              "      <td>0</td>\n",
              "      <td>0</td>\n",
              "      <td>0</td>\n",
              "      <td>0</td>\n",
              "      <td>0</td>\n",
              "      <td>0</td>\n",
              "      <td>0</td>\n",
              "      <td>0</td>\n",
              "      <td>0</td>\n",
              "    </tr>\n",
              "    <tr>\n",
              "      <th>4</th>\n",
              "      <td>60</td>\n",
              "      <td>11</td>\n",
              "      <td>5.000000</td>\n",
              "      <td>3</td>\n",
              "      <td>0</td>\n",
              "      <td>0</td>\n",
              "      <td>0.000000</td>\n",
              "      <td>0.000000</td>\n",
              "      <td>0</td>\n",
              "      <td>0</td>\n",
              "      <td>...</td>\n",
              "      <td>0</td>\n",
              "      <td>0</td>\n",
              "      <td>0</td>\n",
              "      <td>0</td>\n",
              "      <td>0</td>\n",
              "      <td>0</td>\n",
              "      <td>0</td>\n",
              "      <td>0</td>\n",
              "      <td>0</td>\n",
              "      <td>0</td>\n",
              "    </tr>\n",
              "  </tbody>\n",
              "</table>\n",
              "<p>5 rows × 16433 columns</p>\n",
              "</div>"
            ],
            "text/plain": [
              "   char_count  word_count  word_density  punctuation_count  title_word_count  \\\n",
              "0          65          10      5.909091                  4                 0   \n",
              "1          28           4      5.600000                  0                 0   \n",
              "2          33           6      4.714286                  0                 0   \n",
              "3          83          12      6.384615                  1                 0   \n",
              "4          60          11      5.000000                  3                 0   \n",
              "\n",
              "   upper_case_word_count  Polarity  Subjectivity  aaa  aaron  ...  zoo  \\\n",
              "0                      0  0.350000      0.550000    0      0  ...    0   \n",
              "1                      0  0.000000      0.000000    0      0  ...    0   \n",
              "2                      0  0.000000      0.000000    0      0  ...    0   \n",
              "3                      0 -0.066667      0.016667    0      0  ...    0   \n",
              "4                      0  0.000000      0.000000    0      0  ...    0   \n",
              "\n",
              "   zookeep  zooland  zoologist  zoom  zoroastrian  zsa  zucker  zuckerberg  zz  \n",
              "0        0        0          0     0            0    0       0           0   0  \n",
              "1        0        0          0     0            0    0       0           0   0  \n",
              "2        0        0          0     0            0    0       0           0   0  \n",
              "3        0        0          0     0            0    0       0           0   0  \n",
              "4        0        0          0     0            0    0       0           0   0  \n",
              "\n",
              "[5 rows x 16433 columns]"
            ]
          },
          "execution_count": 20,
          "metadata": {},
          "output_type": "execute_result"
        }
      ],
      "source": [
        "X_train_comb = pd.concat([X_train_metadata, X_traincv], axis=1)\n",
        "X_test_comb = pd.concat([X_test_metadata, X_testcv], axis=1)\n",
        "\n",
        "X_train_comb.head()"
      ]
    },
    {
      "cell_type": "markdown",
      "id": "12770f11-9f01-48e2-a39f-835d7c52951c",
      "metadata": {
        "id": "12770f11-9f01-48e2-a39f-835d7c52951c"
      },
      "source": [
        "\n",
        "\n",
        "```\n",
        "```\n",
        "\n",
        "### 5.5 Using Linear Support Vector Machine Model\n"
      ]
    },
    {
      "cell_type": "code",
      "execution_count": 21,
      "id": "Oa2BrRVikXzg",
      "metadata": {
        "id": "Oa2BrRVikXzg"
      },
      "outputs": [],
      "source": [
        "model = svm.LinearSVC()"
      ]
    },
    {
      "cell_type": "code",
      "execution_count": null,
      "id": "6ee48071-1937-4e8e-a9bd-65b5d8ec7799",
      "metadata": {
        "id": "6ee48071-1937-4e8e-a9bd-65b5d8ec7799"
      },
      "outputs": [],
      "source": [
        "model.fit(X_train_comb, y_train)\n",
        "predictions = model.predict(X_test_comb)"
      ]
    },
    {
      "cell_type": "markdown",
      "id": "c1f3c4b7-9767-4a81-95cc-8e5e43022b31",
      "metadata": {
        "id": "c1f3c4b7-9767-4a81-95cc-8e5e43022b31"
      },
      "source": [
        "### 5.6 Evaluation\n"
      ]
    },
    {
      "cell_type": "code",
      "execution_count": 23,
      "id": "3d3764a3-2524-4ea7-bedf-76e16ac77a4c",
      "metadata": {
        "id": "3d3764a3-2524-4ea7-bedf-76e16ac77a4c"
      },
      "outputs": [
        {
          "name": "stdout",
          "output_type": "stream",
          "text": [
            "              precision    recall  f1-score   support\n",
            "\n",
            "           0       0.91      0.82      0.86      4711\n",
            "           1       0.82      0.91      0.86      4142\n",
            "\n",
            "    accuracy                           0.86      8853\n",
            "   macro avg       0.86      0.87      0.86      8853\n",
            "weighted avg       0.87      0.86      0.86      8853\n",
            "\n"
          ]
        },
        {
          "data": {
            "text/html": [
              "<div>\n",
              "<style scoped>\n",
              "    .dataframe tbody tr th:only-of-type {\n",
              "        vertical-align: middle;\n",
              "    }\n",
              "\n",
              "    .dataframe tbody tr th {\n",
              "        vertical-align: top;\n",
              "    }\n",
              "\n",
              "    .dataframe thead th {\n",
              "        text-align: right;\n",
              "    }\n",
              "</style>\n",
              "<table border=\"1\" class=\"dataframe\">\n",
              "  <thead>\n",
              "    <tr style=\"text-align: right;\">\n",
              "      <th></th>\n",
              "      <th>0</th>\n",
              "      <th>1</th>\n",
              "    </tr>\n",
              "  </thead>\n",
              "  <tbody>\n",
              "    <tr>\n",
              "      <th>0</th>\n",
              "      <td>3873</td>\n",
              "      <td>838</td>\n",
              "    </tr>\n",
              "    <tr>\n",
              "      <th>1</th>\n",
              "      <td>381</td>\n",
              "      <td>3761</td>\n",
              "    </tr>\n",
              "  </tbody>\n",
              "</table>\n",
              "</div>"
            ],
            "text/plain": [
              "      0     1\n",
              "0  3873   838\n",
              "1   381  3761"
            ]
          },
          "execution_count": 23,
          "metadata": {},
          "output_type": "execute_result"
        }
      ],
      "source": [
        "print(classification_report(y_test, predictions))\n",
        "pd.DataFrame(confusion_matrix(y_test, predictions))"
      ]
    },
    {
      "cell_type": "markdown",
      "id": "50d1ad99-ca8b-4007-9d28-d0132e35a9af",
      "metadata": {
        "id": "50d1ad99-ca8b-4007-9d28-d0132e35a9af"
      },
      "source": [
        "## 6 Prediction with Test Data"
      ]
    },
    {
      "cell_type": "markdown",
      "id": "d3029ed5",
      "metadata": {},
      "source": [
        "### 6.1 Preprocessing Test Data"
      ]
    },
    {
      "cell_type": "code",
      "execution_count": 24,
      "id": "b2707b6a-1997-4e80-a6b9-57f3895b40f6",
      "metadata": {
        "id": "b2707b6a-1997-4e80-a6b9-57f3895b40f6"
      },
      "outputs": [],
      "source": [
        "new_test_data = pd.read_csv(\"Test_Dataset.csv\")"
      ]
    },
    {
      "cell_type": "code",
      "execution_count": 25,
      "id": "04741ecd-b2c9-4487-8c32-e5e2137d4bc5",
      "metadata": {
        "id": "04741ecd-b2c9-4487-8c32-e5e2137d4bc5"
      },
      "outputs": [],
      "source": [
        "norm_corpus = normalize_corpus(list(new_test_data['headline']))\n",
        "new_test_data['char_count'] = new_test_data['headline'].apply(len)\n",
        "new_test_data['word_count'] = new_test_data['headline'].apply(lambda x: len(x.split()))\n",
        "new_test_data['word_density'] = new_test_data['char_count'] / (new_test_data['word_count']+1)\n",
        "new_test_data['punctuation_count'] = new_test_data['headline'].apply(lambda x: len(\"\".join(_ for _ in x if _ in string.punctuation))) \n",
        "new_test_data['title_word_count'] = new_test_data['headline'].apply(lambda x: len([wrd for wrd in x.split() if wrd.istitle()]))\n",
        "new_test_data['upper_case_word_count'] = new_test_data['headline'].apply(lambda x: len([wrd for wrd in x.split() if wrd.isupper()]))"
      ]
    },
    {
      "cell_type": "code",
      "execution_count": 26,
      "id": "605b49e9-4db2-482d-adc1-8922aebde2ad",
      "metadata": {
        "id": "605b49e9-4db2-482d-adc1-8922aebde2ad"
      },
      "outputs": [
        {
          "data": {
            "text/html": [
              "<div>\n",
              "<style scoped>\n",
              "    .dataframe tbody tr th:only-of-type {\n",
              "        vertical-align: middle;\n",
              "    }\n",
              "\n",
              "    .dataframe tbody tr th {\n",
              "        vertical-align: top;\n",
              "    }\n",
              "\n",
              "    .dataframe thead th {\n",
              "        text-align: right;\n",
              "    }\n",
              "</style>\n",
              "<table border=\"1\" class=\"dataframe\">\n",
              "  <thead>\n",
              "    <tr style=\"text-align: right;\">\n",
              "      <th></th>\n",
              "      <th>headline</th>\n",
              "      <th>char_count</th>\n",
              "      <th>word_count</th>\n",
              "      <th>word_density</th>\n",
              "      <th>punctuation_count</th>\n",
              "      <th>title_word_count</th>\n",
              "      <th>upper_case_word_count</th>\n",
              "    </tr>\n",
              "  </thead>\n",
              "  <tbody>\n",
              "    <tr>\n",
              "      <th>0</th>\n",
              "      <td>area stand-up comedian questions the deal with...</td>\n",
              "      <td>65</td>\n",
              "      <td>9</td>\n",
              "      <td>6.500000</td>\n",
              "      <td>2</td>\n",
              "      <td>0</td>\n",
              "      <td>0</td>\n",
              "    </tr>\n",
              "    <tr>\n",
              "      <th>1</th>\n",
              "      <td>dozens of glowing exit signs mercilessly taunt...</td>\n",
              "      <td>65</td>\n",
              "      <td>9</td>\n",
              "      <td>6.500000</td>\n",
              "      <td>0</td>\n",
              "      <td>0</td>\n",
              "      <td>0</td>\n",
              "    </tr>\n",
              "    <tr>\n",
              "      <th>2</th>\n",
              "      <td>perfect response to heckler somewhere in prop ...</td>\n",
              "      <td>62</td>\n",
              "      <td>9</td>\n",
              "      <td>6.200000</td>\n",
              "      <td>1</td>\n",
              "      <td>0</td>\n",
              "      <td>0</td>\n",
              "    </tr>\n",
              "    <tr>\n",
              "      <th>3</th>\n",
              "      <td>gop prays for ossoff lossoff</td>\n",
              "      <td>28</td>\n",
              "      <td>5</td>\n",
              "      <td>4.666667</td>\n",
              "      <td>0</td>\n",
              "      <td>0</td>\n",
              "      <td>0</td>\n",
              "    </tr>\n",
              "    <tr>\n",
              "      <th>4</th>\n",
              "      <td>trevor noah says the scary truth about trump's...</td>\n",
              "      <td>65</td>\n",
              "      <td>11</td>\n",
              "      <td>5.416667</td>\n",
              "      <td>1</td>\n",
              "      <td>0</td>\n",
              "      <td>0</td>\n",
              "    </tr>\n",
              "  </tbody>\n",
              "</table>\n",
              "</div>"
            ],
            "text/plain": [
              "                                            headline  char_count  word_count  \\\n",
              "0  area stand-up comedian questions the deal with...          65           9   \n",
              "1  dozens of glowing exit signs mercilessly taunt...          65           9   \n",
              "2  perfect response to heckler somewhere in prop ...          62           9   \n",
              "3                       gop prays for ossoff lossoff          28           5   \n",
              "4  trevor noah says the scary truth about trump's...          65          11   \n",
              "\n",
              "   word_density  punctuation_count  title_word_count  upper_case_word_count  \n",
              "0      6.500000                  2                 0                      0  \n",
              "1      6.500000                  0                 0                      0  \n",
              "2      6.200000                  1                 0                      0  \n",
              "3      4.666667                  0                 0                      0  \n",
              "4      5.416667                  1                 0                      0  "
            ]
          },
          "execution_count": 26,
          "metadata": {},
          "output_type": "execute_result"
        }
      ],
      "source": [
        "new_test_data.head()"
      ]
    },
    {
      "cell_type": "code",
      "execution_count": 27,
      "id": "20307e41-77a9-4c1a-9244-13aaa6b5fe86",
      "metadata": {
        "id": "20307e41-77a9-4c1a-9244-13aaa6b5fe86"
      },
      "outputs": [],
      "source": [
        "new_test_data_snt_obj = new_test_data['headline'].apply(lambda row: textblob.TextBlob(row).sentiment)\n",
        "new_test_data['Polarity'] = [obj.polarity for obj in new_test_data_snt_obj.values]\n",
        "new_test_data['Subjectivity'] = [obj.subjectivity for obj in new_test_data_snt_obj.values]"
      ]
    },
    {
      "cell_type": "code",
      "execution_count": 28,
      "id": "a7746052-2cc8-4125-8ce8-4454d5210962",
      "metadata": {
        "id": "a7746052-2cc8-4125-8ce8-4454d5210962"
      },
      "outputs": [
        {
          "data": {
            "text/html": [
              "<div>\n",
              "<style scoped>\n",
              "    .dataframe tbody tr th:only-of-type {\n",
              "        vertical-align: middle;\n",
              "    }\n",
              "\n",
              "    .dataframe tbody tr th {\n",
              "        vertical-align: top;\n",
              "    }\n",
              "\n",
              "    .dataframe thead th {\n",
              "        text-align: right;\n",
              "    }\n",
              "</style>\n",
              "<table border=\"1\" class=\"dataframe\">\n",
              "  <thead>\n",
              "    <tr style=\"text-align: right;\">\n",
              "      <th></th>\n",
              "      <th>headline</th>\n",
              "      <th>char_count</th>\n",
              "      <th>word_count</th>\n",
              "      <th>word_density</th>\n",
              "      <th>punctuation_count</th>\n",
              "      <th>title_word_count</th>\n",
              "      <th>upper_case_word_count</th>\n",
              "      <th>Polarity</th>\n",
              "      <th>Subjectivity</th>\n",
              "    </tr>\n",
              "  </thead>\n",
              "  <tbody>\n",
              "    <tr>\n",
              "      <th>0</th>\n",
              "      <td>area stand-up comedian questions the deal with...</td>\n",
              "      <td>65</td>\n",
              "      <td>9</td>\n",
              "      <td>6.500000</td>\n",
              "      <td>2</td>\n",
              "      <td>0</td>\n",
              "      <td>0</td>\n",
              "      <td>0.0</td>\n",
              "      <td>0.0</td>\n",
              "    </tr>\n",
              "    <tr>\n",
              "      <th>1</th>\n",
              "      <td>dozens of glowing exit signs mercilessly taunt...</td>\n",
              "      <td>65</td>\n",
              "      <td>9</td>\n",
              "      <td>6.500000</td>\n",
              "      <td>0</td>\n",
              "      <td>0</td>\n",
              "      <td>0</td>\n",
              "      <td>-0.7</td>\n",
              "      <td>1.0</td>\n",
              "    </tr>\n",
              "    <tr>\n",
              "      <th>2</th>\n",
              "      <td>perfect response to heckler somewhere in prop ...</td>\n",
              "      <td>62</td>\n",
              "      <td>9</td>\n",
              "      <td>6.200000</td>\n",
              "      <td>1</td>\n",
              "      <td>0</td>\n",
              "      <td>0</td>\n",
              "      <td>1.0</td>\n",
              "      <td>1.0</td>\n",
              "    </tr>\n",
              "    <tr>\n",
              "      <th>3</th>\n",
              "      <td>gop prays for ossoff lossoff</td>\n",
              "      <td>28</td>\n",
              "      <td>5</td>\n",
              "      <td>4.666667</td>\n",
              "      <td>0</td>\n",
              "      <td>0</td>\n",
              "      <td>0</td>\n",
              "      <td>0.0</td>\n",
              "      <td>0.0</td>\n",
              "    </tr>\n",
              "    <tr>\n",
              "      <th>4</th>\n",
              "      <td>trevor noah says the scary truth about trump's...</td>\n",
              "      <td>65</td>\n",
              "      <td>11</td>\n",
              "      <td>5.416667</td>\n",
              "      <td>1</td>\n",
              "      <td>0</td>\n",
              "      <td>0</td>\n",
              "      <td>0.0</td>\n",
              "      <td>0.8</td>\n",
              "    </tr>\n",
              "  </tbody>\n",
              "</table>\n",
              "</div>"
            ],
            "text/plain": [
              "                                            headline  char_count  word_count  \\\n",
              "0  area stand-up comedian questions the deal with...          65           9   \n",
              "1  dozens of glowing exit signs mercilessly taunt...          65           9   \n",
              "2  perfect response to heckler somewhere in prop ...          62           9   \n",
              "3                       gop prays for ossoff lossoff          28           5   \n",
              "4  trevor noah says the scary truth about trump's...          65          11   \n",
              "\n",
              "   word_density  punctuation_count  title_word_count  upper_case_word_count  \\\n",
              "0      6.500000                  2                 0                      0   \n",
              "1      6.500000                  0                 0                      0   \n",
              "2      6.200000                  1                 0                      0   \n",
              "3      4.666667                  0                 0                      0   \n",
              "4      5.416667                  1                 0                      0   \n",
              "\n",
              "   Polarity  Subjectivity  \n",
              "0       0.0           0.0  \n",
              "1      -0.7           1.0  \n",
              "2       1.0           1.0  \n",
              "3       0.0           0.0  \n",
              "4       0.0           0.8  "
            ]
          },
          "execution_count": 28,
          "metadata": {},
          "output_type": "execute_result"
        }
      ],
      "source": [
        "new_test_data.head()"
      ]
    },
    {
      "cell_type": "code",
      "execution_count": 29,
      "id": "06e4b4ae-4a08-4f96-b9d0-4eb81cb1755a",
      "metadata": {
        "id": "06e4b4ae-4a08-4f96-b9d0-4eb81cb1755a"
      },
      "outputs": [],
      "source": [
        "new_test_data['clean headline'] = stp(new_test_data['headline'].values)"
      ]
    },
    {
      "cell_type": "code",
      "execution_count": 30,
      "id": "992ac02c-0807-4e9d-bbfb-1a10e7179d98",
      "metadata": {
        "id": "992ac02c-0807-4e9d-bbfb-1a10e7179d98"
      },
      "outputs": [
        {
          "data": {
            "text/html": [
              "<div>\n",
              "<style scoped>\n",
              "    .dataframe tbody tr th:only-of-type {\n",
              "        vertical-align: middle;\n",
              "    }\n",
              "\n",
              "    .dataframe tbody tr th {\n",
              "        vertical-align: top;\n",
              "    }\n",
              "\n",
              "    .dataframe thead th {\n",
              "        text-align: right;\n",
              "    }\n",
              "</style>\n",
              "<table border=\"1\" class=\"dataframe\">\n",
              "  <thead>\n",
              "    <tr style=\"text-align: right;\">\n",
              "      <th></th>\n",
              "      <th>headline</th>\n",
              "      <th>char_count</th>\n",
              "      <th>word_count</th>\n",
              "      <th>word_density</th>\n",
              "      <th>punctuation_count</th>\n",
              "      <th>title_word_count</th>\n",
              "      <th>upper_case_word_count</th>\n",
              "      <th>Polarity</th>\n",
              "      <th>Subjectivity</th>\n",
              "      <th>clean headline</th>\n",
              "    </tr>\n",
              "  </thead>\n",
              "  <tbody>\n",
              "    <tr>\n",
              "      <th>0</th>\n",
              "      <td>area stand-up comedian questions the deal with...</td>\n",
              "      <td>65</td>\n",
              "      <td>9</td>\n",
              "      <td>6.500000</td>\n",
              "      <td>2</td>\n",
              "      <td>0</td>\n",
              "      <td>0</td>\n",
              "      <td>0.0</td>\n",
              "      <td>0.0</td>\n",
              "      <td>area stand comedian question deal drive thru w...</td>\n",
              "    </tr>\n",
              "    <tr>\n",
              "      <th>1</th>\n",
              "      <td>dozens of glowing exit signs mercilessly taunt...</td>\n",
              "      <td>65</td>\n",
              "      <td>9</td>\n",
              "      <td>6.500000</td>\n",
              "      <td>0</td>\n",
              "      <td>0</td>\n",
              "      <td>0</td>\n",
              "      <td>-0.7</td>\n",
              "      <td>1.0</td>\n",
              "      <td>dozen glow exit sign mercilessli taunt multipl...</td>\n",
              "    </tr>\n",
              "    <tr>\n",
              "      <th>2</th>\n",
              "      <td>perfect response to heckler somewhere in prop ...</td>\n",
              "      <td>62</td>\n",
              "      <td>9</td>\n",
              "      <td>6.200000</td>\n",
              "      <td>1</td>\n",
              "      <td>0</td>\n",
              "      <td>0</td>\n",
              "      <td>1.0</td>\n",
              "      <td>1.0</td>\n",
              "      <td>perfect respons heckler somewher prop comedian...</td>\n",
              "    </tr>\n",
              "    <tr>\n",
              "      <th>3</th>\n",
              "      <td>gop prays for ossoff lossoff</td>\n",
              "      <td>28</td>\n",
              "      <td>5</td>\n",
              "      <td>4.666667</td>\n",
              "      <td>0</td>\n",
              "      <td>0</td>\n",
              "      <td>0</td>\n",
              "      <td>0.0</td>\n",
              "      <td>0.0</td>\n",
              "      <td>gop pray ossoff lossoff</td>\n",
              "    </tr>\n",
              "    <tr>\n",
              "      <th>4</th>\n",
              "      <td>trevor noah says the scary truth about trump's...</td>\n",
              "      <td>65</td>\n",
              "      <td>11</td>\n",
              "      <td>5.416667</td>\n",
              "      <td>1</td>\n",
              "      <td>0</td>\n",
              "      <td>0</td>\n",
              "      <td>0.0</td>\n",
              "      <td>0.8</td>\n",
              "      <td>trevor noah say scari truth trump rumor love c...</td>\n",
              "    </tr>\n",
              "  </tbody>\n",
              "</table>\n",
              "</div>"
            ],
            "text/plain": [
              "                                            headline  char_count  word_count  \\\n",
              "0  area stand-up comedian questions the deal with...          65           9   \n",
              "1  dozens of glowing exit signs mercilessly taunt...          65           9   \n",
              "2  perfect response to heckler somewhere in prop ...          62           9   \n",
              "3                       gop prays for ossoff lossoff          28           5   \n",
              "4  trevor noah says the scary truth about trump's...          65          11   \n",
              "\n",
              "   word_density  punctuation_count  title_word_count  upper_case_word_count  \\\n",
              "0      6.500000                  2                 0                      0   \n",
              "1      6.500000                  0                 0                      0   \n",
              "2      6.200000                  1                 0                      0   \n",
              "3      4.666667                  0                 0                      0   \n",
              "4      5.416667                  1                 0                      0   \n",
              "\n",
              "   Polarity  Subjectivity                                     clean headline  \n",
              "0       0.0           0.0  area stand comedian question deal drive thru w...  \n",
              "1      -0.7           1.0  dozen glow exit sign mercilessli taunt multipl...  \n",
              "2       1.0           1.0  perfect respons heckler somewher prop comedian...  \n",
              "3       0.0           0.0                            gop pray ossoff lossoff  \n",
              "4       0.0           0.8  trevor noah say scari truth trump rumor love c...  "
            ]
          },
          "execution_count": 30,
          "metadata": {},
          "output_type": "execute_result"
        }
      ],
      "source": [
        "new_test_data.head()"
      ]
    },
    {
      "cell_type": "code",
      "execution_count": 31,
      "id": "c7384114-fc81-43f9-85fc-3d5d7cd3960a",
      "metadata": {
        "id": "c7384114-fc81-43f9-85fc-3d5d7cd3960a"
      },
      "outputs": [],
      "source": [
        "new_test_metadata = new_test_data.drop(['headline', 'clean headline'], axis=1).reset_index(drop=True)"
      ]
    },
    {
      "cell_type": "code",
      "execution_count": 32,
      "id": "794b1bfc-59ca-4f0a-a2c5-5f6d0cedb8ff",
      "metadata": {
        "id": "794b1bfc-59ca-4f0a-a2c5-5f6d0cedb8ff"
      },
      "outputs": [
        {
          "data": {
            "text/html": [
              "<div>\n",
              "<style scoped>\n",
              "    .dataframe tbody tr th:only-of-type {\n",
              "        vertical-align: middle;\n",
              "    }\n",
              "\n",
              "    .dataframe tbody tr th {\n",
              "        vertical-align: top;\n",
              "    }\n",
              "\n",
              "    .dataframe thead th {\n",
              "        text-align: right;\n",
              "    }\n",
              "</style>\n",
              "<table border=\"1\" class=\"dataframe\">\n",
              "  <thead>\n",
              "    <tr style=\"text-align: right;\">\n",
              "      <th></th>\n",
              "      <th>char_count</th>\n",
              "      <th>word_count</th>\n",
              "      <th>word_density</th>\n",
              "      <th>punctuation_count</th>\n",
              "      <th>title_word_count</th>\n",
              "      <th>upper_case_word_count</th>\n",
              "      <th>Polarity</th>\n",
              "      <th>Subjectivity</th>\n",
              "    </tr>\n",
              "  </thead>\n",
              "  <tbody>\n",
              "    <tr>\n",
              "      <th>0</th>\n",
              "      <td>65</td>\n",
              "      <td>9</td>\n",
              "      <td>6.500000</td>\n",
              "      <td>2</td>\n",
              "      <td>0</td>\n",
              "      <td>0</td>\n",
              "      <td>0.0</td>\n",
              "      <td>0.0</td>\n",
              "    </tr>\n",
              "    <tr>\n",
              "      <th>1</th>\n",
              "      <td>65</td>\n",
              "      <td>9</td>\n",
              "      <td>6.500000</td>\n",
              "      <td>0</td>\n",
              "      <td>0</td>\n",
              "      <td>0</td>\n",
              "      <td>-0.7</td>\n",
              "      <td>1.0</td>\n",
              "    </tr>\n",
              "    <tr>\n",
              "      <th>2</th>\n",
              "      <td>62</td>\n",
              "      <td>9</td>\n",
              "      <td>6.200000</td>\n",
              "      <td>1</td>\n",
              "      <td>0</td>\n",
              "      <td>0</td>\n",
              "      <td>1.0</td>\n",
              "      <td>1.0</td>\n",
              "    </tr>\n",
              "    <tr>\n",
              "      <th>3</th>\n",
              "      <td>28</td>\n",
              "      <td>5</td>\n",
              "      <td>4.666667</td>\n",
              "      <td>0</td>\n",
              "      <td>0</td>\n",
              "      <td>0</td>\n",
              "      <td>0.0</td>\n",
              "      <td>0.0</td>\n",
              "    </tr>\n",
              "    <tr>\n",
              "      <th>4</th>\n",
              "      <td>65</td>\n",
              "      <td>11</td>\n",
              "      <td>5.416667</td>\n",
              "      <td>1</td>\n",
              "      <td>0</td>\n",
              "      <td>0</td>\n",
              "      <td>0.0</td>\n",
              "      <td>0.8</td>\n",
              "    </tr>\n",
              "  </tbody>\n",
              "</table>\n",
              "</div>"
            ],
            "text/plain": [
              "   char_count  word_count  word_density  punctuation_count  title_word_count  \\\n",
              "0          65           9      6.500000                  2                 0   \n",
              "1          65           9      6.500000                  0                 0   \n",
              "2          62           9      6.200000                  1                 0   \n",
              "3          28           5      4.666667                  0                 0   \n",
              "4          65          11      5.416667                  1                 0   \n",
              "\n",
              "   upper_case_word_count  Polarity  Subjectivity  \n",
              "0                      0       0.0           0.0  \n",
              "1                      0      -0.7           1.0  \n",
              "2                      0       1.0           1.0  \n",
              "3                      0       0.0           0.0  \n",
              "4                      0       0.0           0.8  "
            ]
          },
          "execution_count": 32,
          "metadata": {},
          "output_type": "execute_result"
        }
      ],
      "source": [
        "new_test_metadata.head()"
      ]
    },
    {
      "cell_type": "code",
      "execution_count": null,
      "id": "75e5ddc0-b133-414e-941e-b466c81692f3",
      "metadata": {
        "id": "75e5ddc0-b133-414e-941e-b466c81692f3"
      },
      "outputs": [],
      "source": [
        "new_test_data_cv = cv.transform(new_test_data['clean headline']).toarray()\n",
        "new_test_data_cv = pd.DataFrame(new_test_data_cv, columns=cv.get_feature_names())"
      ]
    },
    {
      "cell_type": "code",
      "execution_count": 34,
      "id": "495ebab9-7bb6-4804-a239-0af5f3bd9d8a",
      "metadata": {
        "id": "495ebab9-7bb6-4804-a239-0af5f3bd9d8a"
      },
      "outputs": [
        {
          "data": {
            "text/html": [
              "<div>\n",
              "<style scoped>\n",
              "    .dataframe tbody tr th:only-of-type {\n",
              "        vertical-align: middle;\n",
              "    }\n",
              "\n",
              "    .dataframe tbody tr th {\n",
              "        vertical-align: top;\n",
              "    }\n",
              "\n",
              "    .dataframe thead th {\n",
              "        text-align: right;\n",
              "    }\n",
              "</style>\n",
              "<table border=\"1\" class=\"dataframe\">\n",
              "  <thead>\n",
              "    <tr style=\"text-align: right;\">\n",
              "      <th></th>\n",
              "      <th>aaa</th>\n",
              "      <th>aaron</th>\n",
              "      <th>aarp</th>\n",
              "      <th>ab</th>\n",
              "      <th>abandon</th>\n",
              "      <th>abaya</th>\n",
              "      <th>abba</th>\n",
              "      <th>abbey</th>\n",
              "      <th>abbi</th>\n",
              "      <th>abc</th>\n",
              "      <th>...</th>\n",
              "      <th>zoo</th>\n",
              "      <th>zookeep</th>\n",
              "      <th>zooland</th>\n",
              "      <th>zoologist</th>\n",
              "      <th>zoom</th>\n",
              "      <th>zoroastrian</th>\n",
              "      <th>zsa</th>\n",
              "      <th>zucker</th>\n",
              "      <th>zuckerberg</th>\n",
              "      <th>zz</th>\n",
              "    </tr>\n",
              "  </thead>\n",
              "  <tbody>\n",
              "    <tr>\n",
              "      <th>0</th>\n",
              "      <td>0</td>\n",
              "      <td>0</td>\n",
              "      <td>0</td>\n",
              "      <td>0</td>\n",
              "      <td>0</td>\n",
              "      <td>0</td>\n",
              "      <td>0</td>\n",
              "      <td>0</td>\n",
              "      <td>0</td>\n",
              "      <td>0</td>\n",
              "      <td>...</td>\n",
              "      <td>0</td>\n",
              "      <td>0</td>\n",
              "      <td>0</td>\n",
              "      <td>0</td>\n",
              "      <td>0</td>\n",
              "      <td>0</td>\n",
              "      <td>0</td>\n",
              "      <td>0</td>\n",
              "      <td>0</td>\n",
              "      <td>0</td>\n",
              "    </tr>\n",
              "    <tr>\n",
              "      <th>1</th>\n",
              "      <td>0</td>\n",
              "      <td>0</td>\n",
              "      <td>0</td>\n",
              "      <td>0</td>\n",
              "      <td>0</td>\n",
              "      <td>0</td>\n",
              "      <td>0</td>\n",
              "      <td>0</td>\n",
              "      <td>0</td>\n",
              "      <td>0</td>\n",
              "      <td>...</td>\n",
              "      <td>0</td>\n",
              "      <td>0</td>\n",
              "      <td>0</td>\n",
              "      <td>0</td>\n",
              "      <td>0</td>\n",
              "      <td>0</td>\n",
              "      <td>0</td>\n",
              "      <td>0</td>\n",
              "      <td>0</td>\n",
              "      <td>0</td>\n",
              "    </tr>\n",
              "    <tr>\n",
              "      <th>2</th>\n",
              "      <td>0</td>\n",
              "      <td>0</td>\n",
              "      <td>0</td>\n",
              "      <td>0</td>\n",
              "      <td>0</td>\n",
              "      <td>0</td>\n",
              "      <td>0</td>\n",
              "      <td>0</td>\n",
              "      <td>0</td>\n",
              "      <td>0</td>\n",
              "      <td>...</td>\n",
              "      <td>0</td>\n",
              "      <td>0</td>\n",
              "      <td>0</td>\n",
              "      <td>0</td>\n",
              "      <td>0</td>\n",
              "      <td>0</td>\n",
              "      <td>0</td>\n",
              "      <td>0</td>\n",
              "      <td>0</td>\n",
              "      <td>0</td>\n",
              "    </tr>\n",
              "    <tr>\n",
              "      <th>3</th>\n",
              "      <td>0</td>\n",
              "      <td>0</td>\n",
              "      <td>0</td>\n",
              "      <td>0</td>\n",
              "      <td>0</td>\n",
              "      <td>0</td>\n",
              "      <td>0</td>\n",
              "      <td>0</td>\n",
              "      <td>0</td>\n",
              "      <td>0</td>\n",
              "      <td>...</td>\n",
              "      <td>0</td>\n",
              "      <td>0</td>\n",
              "      <td>0</td>\n",
              "      <td>0</td>\n",
              "      <td>0</td>\n",
              "      <td>0</td>\n",
              "      <td>0</td>\n",
              "      <td>0</td>\n",
              "      <td>0</td>\n",
              "      <td>0</td>\n",
              "    </tr>\n",
              "    <tr>\n",
              "      <th>4</th>\n",
              "      <td>0</td>\n",
              "      <td>0</td>\n",
              "      <td>0</td>\n",
              "      <td>0</td>\n",
              "      <td>0</td>\n",
              "      <td>0</td>\n",
              "      <td>0</td>\n",
              "      <td>0</td>\n",
              "      <td>0</td>\n",
              "      <td>0</td>\n",
              "      <td>...</td>\n",
              "      <td>0</td>\n",
              "      <td>0</td>\n",
              "      <td>0</td>\n",
              "      <td>0</td>\n",
              "      <td>0</td>\n",
              "      <td>0</td>\n",
              "      <td>0</td>\n",
              "      <td>0</td>\n",
              "      <td>0</td>\n",
              "      <td>0</td>\n",
              "    </tr>\n",
              "  </tbody>\n",
              "</table>\n",
              "<p>5 rows × 16425 columns</p>\n",
              "</div>"
            ],
            "text/plain": [
              "   aaa  aaron  aarp  ab  abandon  abaya  abba  abbey  abbi  abc  ...  zoo  \\\n",
              "0    0      0     0   0        0      0     0      0     0    0  ...    0   \n",
              "1    0      0     0   0        0      0     0      0     0    0  ...    0   \n",
              "2    0      0     0   0        0      0     0      0     0    0  ...    0   \n",
              "3    0      0     0   0        0      0     0      0     0    0  ...    0   \n",
              "4    0      0     0   0        0      0     0      0     0    0  ...    0   \n",
              "\n",
              "   zookeep  zooland  zoologist  zoom  zoroastrian  zsa  zucker  zuckerberg  zz  \n",
              "0        0        0          0     0            0    0       0           0   0  \n",
              "1        0        0          0     0            0    0       0           0   0  \n",
              "2        0        0          0     0            0    0       0           0   0  \n",
              "3        0        0          0     0            0    0       0           0   0  \n",
              "4        0        0          0     0            0    0       0           0   0  \n",
              "\n",
              "[5 rows x 16425 columns]"
            ]
          },
          "execution_count": 34,
          "metadata": {},
          "output_type": "execute_result"
        }
      ],
      "source": [
        "new_test_data_cv.head()"
      ]
    },
    {
      "cell_type": "code",
      "execution_count": 35,
      "id": "913156d8-acb1-4dfd-a7b7-39c62fd4f481",
      "metadata": {
        "id": "913156d8-acb1-4dfd-a7b7-39c62fd4f481"
      },
      "outputs": [],
      "source": [
        "new_test_data_comb = pd.concat([new_test_metadata, new_test_data_cv], axis=1)"
      ]
    },
    {
      "cell_type": "code",
      "execution_count": 36,
      "id": "61f4e78b-9e59-46e5-98a3-29ac97285be6",
      "metadata": {
        "id": "61f4e78b-9e59-46e5-98a3-29ac97285be6"
      },
      "outputs": [
        {
          "data": {
            "text/html": [
              "<div>\n",
              "<style scoped>\n",
              "    .dataframe tbody tr th:only-of-type {\n",
              "        vertical-align: middle;\n",
              "    }\n",
              "\n",
              "    .dataframe tbody tr th {\n",
              "        vertical-align: top;\n",
              "    }\n",
              "\n",
              "    .dataframe thead th {\n",
              "        text-align: right;\n",
              "    }\n",
              "</style>\n",
              "<table border=\"1\" class=\"dataframe\">\n",
              "  <thead>\n",
              "    <tr style=\"text-align: right;\">\n",
              "      <th></th>\n",
              "      <th>char_count</th>\n",
              "      <th>word_count</th>\n",
              "      <th>word_density</th>\n",
              "      <th>punctuation_count</th>\n",
              "      <th>title_word_count</th>\n",
              "      <th>upper_case_word_count</th>\n",
              "      <th>Polarity</th>\n",
              "      <th>Subjectivity</th>\n",
              "      <th>aaa</th>\n",
              "      <th>aaron</th>\n",
              "      <th>...</th>\n",
              "      <th>zoo</th>\n",
              "      <th>zookeep</th>\n",
              "      <th>zooland</th>\n",
              "      <th>zoologist</th>\n",
              "      <th>zoom</th>\n",
              "      <th>zoroastrian</th>\n",
              "      <th>zsa</th>\n",
              "      <th>zucker</th>\n",
              "      <th>zuckerberg</th>\n",
              "      <th>zz</th>\n",
              "    </tr>\n",
              "  </thead>\n",
              "  <tbody>\n",
              "    <tr>\n",
              "      <th>0</th>\n",
              "      <td>65</td>\n",
              "      <td>9</td>\n",
              "      <td>6.500000</td>\n",
              "      <td>2</td>\n",
              "      <td>0</td>\n",
              "      <td>0</td>\n",
              "      <td>0.0</td>\n",
              "      <td>0.0</td>\n",
              "      <td>0</td>\n",
              "      <td>0</td>\n",
              "      <td>...</td>\n",
              "      <td>0</td>\n",
              "      <td>0</td>\n",
              "      <td>0</td>\n",
              "      <td>0</td>\n",
              "      <td>0</td>\n",
              "      <td>0</td>\n",
              "      <td>0</td>\n",
              "      <td>0</td>\n",
              "      <td>0</td>\n",
              "      <td>0</td>\n",
              "    </tr>\n",
              "    <tr>\n",
              "      <th>1</th>\n",
              "      <td>65</td>\n",
              "      <td>9</td>\n",
              "      <td>6.500000</td>\n",
              "      <td>0</td>\n",
              "      <td>0</td>\n",
              "      <td>0</td>\n",
              "      <td>-0.7</td>\n",
              "      <td>1.0</td>\n",
              "      <td>0</td>\n",
              "      <td>0</td>\n",
              "      <td>...</td>\n",
              "      <td>0</td>\n",
              "      <td>0</td>\n",
              "      <td>0</td>\n",
              "      <td>0</td>\n",
              "      <td>0</td>\n",
              "      <td>0</td>\n",
              "      <td>0</td>\n",
              "      <td>0</td>\n",
              "      <td>0</td>\n",
              "      <td>0</td>\n",
              "    </tr>\n",
              "    <tr>\n",
              "      <th>2</th>\n",
              "      <td>62</td>\n",
              "      <td>9</td>\n",
              "      <td>6.200000</td>\n",
              "      <td>1</td>\n",
              "      <td>0</td>\n",
              "      <td>0</td>\n",
              "      <td>1.0</td>\n",
              "      <td>1.0</td>\n",
              "      <td>0</td>\n",
              "      <td>0</td>\n",
              "      <td>...</td>\n",
              "      <td>0</td>\n",
              "      <td>0</td>\n",
              "      <td>0</td>\n",
              "      <td>0</td>\n",
              "      <td>0</td>\n",
              "      <td>0</td>\n",
              "      <td>0</td>\n",
              "      <td>0</td>\n",
              "      <td>0</td>\n",
              "      <td>0</td>\n",
              "    </tr>\n",
              "    <tr>\n",
              "      <th>3</th>\n",
              "      <td>28</td>\n",
              "      <td>5</td>\n",
              "      <td>4.666667</td>\n",
              "      <td>0</td>\n",
              "      <td>0</td>\n",
              "      <td>0</td>\n",
              "      <td>0.0</td>\n",
              "      <td>0.0</td>\n",
              "      <td>0</td>\n",
              "      <td>0</td>\n",
              "      <td>...</td>\n",
              "      <td>0</td>\n",
              "      <td>0</td>\n",
              "      <td>0</td>\n",
              "      <td>0</td>\n",
              "      <td>0</td>\n",
              "      <td>0</td>\n",
              "      <td>0</td>\n",
              "      <td>0</td>\n",
              "      <td>0</td>\n",
              "      <td>0</td>\n",
              "    </tr>\n",
              "    <tr>\n",
              "      <th>4</th>\n",
              "      <td>65</td>\n",
              "      <td>11</td>\n",
              "      <td>5.416667</td>\n",
              "      <td>1</td>\n",
              "      <td>0</td>\n",
              "      <td>0</td>\n",
              "      <td>0.0</td>\n",
              "      <td>0.8</td>\n",
              "      <td>0</td>\n",
              "      <td>0</td>\n",
              "      <td>...</td>\n",
              "      <td>0</td>\n",
              "      <td>0</td>\n",
              "      <td>0</td>\n",
              "      <td>0</td>\n",
              "      <td>0</td>\n",
              "      <td>0</td>\n",
              "      <td>0</td>\n",
              "      <td>0</td>\n",
              "      <td>0</td>\n",
              "      <td>0</td>\n",
              "    </tr>\n",
              "  </tbody>\n",
              "</table>\n",
              "<p>5 rows × 16433 columns</p>\n",
              "</div>"
            ],
            "text/plain": [
              "   char_count  word_count  word_density  punctuation_count  title_word_count  \\\n",
              "0          65           9      6.500000                  2                 0   \n",
              "1          65           9      6.500000                  0                 0   \n",
              "2          62           9      6.200000                  1                 0   \n",
              "3          28           5      4.666667                  0                 0   \n",
              "4          65          11      5.416667                  1                 0   \n",
              "\n",
              "   upper_case_word_count  Polarity  Subjectivity  aaa  aaron  ...  zoo  \\\n",
              "0                      0       0.0           0.0    0      0  ...    0   \n",
              "1                      0      -0.7           1.0    0      0  ...    0   \n",
              "2                      0       1.0           1.0    0      0  ...    0   \n",
              "3                      0       0.0           0.0    0      0  ...    0   \n",
              "4                      0       0.0           0.8    0      0  ...    0   \n",
              "\n",
              "   zookeep  zooland  zoologist  zoom  zoroastrian  zsa  zucker  zuckerberg  zz  \n",
              "0        0        0          0     0            0    0       0           0   0  \n",
              "1        0        0          0     0            0    0       0           0   0  \n",
              "2        0        0          0     0            0    0       0           0   0  \n",
              "3        0        0          0     0            0    0       0           0   0  \n",
              "4        0        0          0     0            0    0       0           0   0  \n",
              "\n",
              "[5 rows x 16433 columns]"
            ]
          },
          "execution_count": 36,
          "metadata": {},
          "output_type": "execute_result"
        }
      ],
      "source": [
        "new_test_data_comb.head()"
      ]
    },
    {
      "cell_type": "markdown",
      "id": "75bb1839",
      "metadata": {},
      "source": [
        "### 6.2 Creating the Prediction CSV"
      ]
    },
    {
      "cell_type": "code",
      "execution_count": 37,
      "id": "ed882483-2d6e-480b-ba2c-0455354ddf3d",
      "metadata": {
        "id": "ed882483-2d6e-480b-ba2c-0455354ddf3d"
      },
      "outputs": [],
      "source": [
        "target = model.predict(new_test_data_comb)"
      ]
    },
    {
      "cell_type": "code",
      "execution_count": 38,
      "id": "7e481c44-8292-4055-87cd-0691c218f437",
      "metadata": {
        "id": "7e481c44-8292-4055-87cd-0691c218f437"
      },
      "outputs": [],
      "source": [
        "res = pd.DataFrame(target) \n",
        "res.index = new_test_data_comb.index \n",
        "res.columns = [\"prediction\"]\n",
        "res.to_csv(\"sarcasm_prediction_results.csv\", index = False)"
      ]
    }
  ],
  "metadata": {
    "accelerator": "GPU",
    "colab": {
      "collapsed_sections": [],
      "name": "nlp_bootcamp_datathon-99921794098c49b5ac9932ddd8eaa6aa.ipynb",
      "provenance": []
    },
    "kernelspec": {
      "display_name": "Python 3 (ipykernel)",
      "language": "python",
      "name": "python3"
    },
    "language_info": {
      "codemirror_mode": {
        "name": "ipython",
        "version": 3
      },
      "file_extension": ".py",
      "mimetype": "text/x-python",
      "name": "python",
      "nbconvert_exporter": "python",
      "pygments_lexer": "ipython3",
      "version": "3.10.0"
    }
  },
  "nbformat": 4,
  "nbformat_minor": 5
}
